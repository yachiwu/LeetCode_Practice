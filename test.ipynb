{
 "cells": [
  {
   "cell_type": "code",
   "execution_count": null,
   "metadata": {},
   "outputs": [],
   "source": [
    "l = 0\n",
    "r = 1\n",
    "m = (l+r)//2\n",
    "print(m)"
   ]
  },
  {
   "cell_type": "code",
   "execution_count": 4,
   "metadata": {},
   "outputs": [
    {
     "name": "stdout",
     "output_type": "stream",
     "text": [
      "[[], [3], [2], [1], [], [], []]\n"
     ]
    }
   ],
   "source": [
    "nums = [1,1,1,2,2,3]\n",
    "k = 2\n",
    "count = {}\n",
    "freq = [[]for i in range(len(nums)+1)]\n",
    "for n in nums:\n",
    "    count[n] = 1+ count.get(n,0)\n",
    "for n,c in count.items():\n",
    "    freq[c].append(n)\n",
    "res = []\n",
    "print(freq)"
   ]
  },
  {
   "cell_type": "code",
   "execution_count": 3,
   "metadata": {},
   "outputs": [
    {
     "name": "stdout",
     "output_type": "stream",
     "text": [
      "[<__main__.TreeNode object at 0x0000020FB53ADD90>, <__main__.TreeNode object at 0x0000020FB53AF050>, <__main__.TreeNode object at 0x0000020FB53AF650>, <__main__.TreeNode object at 0x0000020FB53AF380>, <__main__.TreeNode object at 0x0000020FB53AFA70>, <__main__.TreeNode object at 0x0000020FB53AF5F0>, <__main__.TreeNode object at 0x0000020FB53AE090>]\n"
     ]
    }
   ],
   "source": [
    "class TreeNode:\n",
    "    def __init__(self,val=0,left=None,right=None):\n",
    "        self.val = val\n",
    "        self.left = left\n",
    "        self.right = right\n",
    "\n",
    "from typing import List\n",
    "def createTreeNode(nums: List[int]) -> List:\n",
    "    if not nums:\n",
    "        return None\n",
    "    nodes = [None if val is None else TreeNode(val) for val in nums]\n",
    "    return nodes\n",
    "\n",
    "nums = [1, 2, 3, 4, 5, 6, 7]\n",
    "nodes = createTreeNode(nums)\n",
    "print(nodes)"
   ]
  },
  {
   "cell_type": "code",
   "execution_count": 1,
   "metadata": {},
   "outputs": [
    {
     "name": "stdout",
     "output_type": "stream",
     "text": [
      "True\n"
     ]
    }
   ],
   "source": [
    "# Definition for a binary tree node.\n",
    "class TreeNode:\n",
    "    def __init__(self, val=0, left=None, right=None):\n",
    "        self.val = val\n",
    "        self.left = left\n",
    "        self.right = right\n",
    "from typing import List, Optional\n",
    "\n",
    "def createTreeNode(nums:List[int])->TreeNode:\n",
    "    if not nums:\n",
    "        return None\n",
    "    nodes = [None if val is None else TreeNode(val) for val in nums]\n",
    "    for i,node in enumerate(nodes):\n",
    "        left_index = 2*i+1\n",
    "        right_index = 2*i+2\n",
    "        if left_index < len(nodes):\n",
    "            node.left = nodes[left_index]\n",
    "        if right_index < len(nodes):    \n",
    "            node.right = nodes[right_index]\n",
    "    return nodes[0]\n",
    "\n",
    "\n",
    "def isBalanced(root: Optional[TreeNode]) -> bool:\n",
    "    def check(root:TreeNode)-> int:\n",
    "        if root == None:\n",
    "            return 0\n",
    "        l = check(root.left)\n",
    "        r= check(root.right)\n",
    "        if l == -1 or r ==-1 or abs(l-r)>1 :\n",
    "            return -1\n",
    "        return 1+ max(l,r)\n",
    "    return check(root) != -1 \n",
    "    \n",
    "input_array = [3,9,20,15,7]    \n",
    "input_tree = createTreeNode(input_array )\n",
    "ans = isBalanced(input_tree)\n",
    "print(ans)\n"
   ]
  },
  {
   "cell_type": "code",
   "execution_count": 1,
   "metadata": {},
   "outputs": [
    {
     "name": "stdout",
     "output_type": "stream",
     "text": [
      "[1, 1, 2, 6]\n"
     ]
    }
   ],
   "source": [
    "nums = [1,2,3,4]\n",
    "#prefix = [1,1,2,6]\n",
    "#postfix = [24,12,4,1]\n",
    "result = [1] * len(nums)\n",
    "prefix = 1\n",
    "for i in range(len(nums)):\n",
    "    result[i] = prefix\n",
    "    prefix*= nums[i]\n",
    "postfix = 1\n",
    "for i in range(len(nums)-1,-1,-1):\n",
    "    result[i]*= postfix\n",
    "    postfix*= nums[i] \n",
    "return  result   \n",
    "\n",
    "    \n"
   ]
  },
  {
   "cell_type": "code",
   "execution_count": null,
   "metadata": {},
   "outputs": [],
   "source": [
    "def sumOfSquares(n):\n",
    "    output = 0\n",
    "    while n:\n",
    "        digit = n % 10\n",
    "        digit = digit**2\n",
    "        output += digit\n",
    "        n = n //10\n",
    "    return output    \n"
   ]
  },
  {
   "cell_type": "code",
   "execution_count": 1,
   "metadata": {},
   "outputs": [
    {
     "name": "stdout",
     "output_type": "stream",
     "text": [
      "left 0 right 4\n",
      "left 1 right 3\n",
      "True\n"
     ]
    }
   ],
   "source": [
    "class Solution:\n",
    "    def isPalindrome(self, s: str) -> bool:\n",
    "        l , r = 0 , len(s)-1\n",
    "        while l<r:\n",
    "            # if  character not alphaNum , skip it\n",
    "            while l<r and not self.alphaNum(s[l]):\n",
    "                l+=1\n",
    "            while r>1 and not self.alphaNum(s[r]):\n",
    "                r-=1\n",
    "\n",
    "            if s[l].lower() != s[r].lower():\n",
    "                return False\n",
    "            l+=1\n",
    "            r-=1\n",
    "        return True    \n",
    "        \n",
    "    def alphaNum(self,c):\n",
    "        if (ord(\"a\")<= ord(c) <= ord(\"z\")) or (ord(\"A\")<= ord(c) <= ord(\"Z\")) or (ord(\"0\")<= ord(c) <= ord(\"9\")):\n",
    "            return True\n",
    "        else:\n",
    "            False\n",
    "\n",
    "sol = Solution()\n",
    "result = sol.isPalindrome(\"abcba\")\n",
    "print(result)"
   ]
  },
  {
   "cell_type": "code",
   "execution_count": 4,
   "metadata": {},
   "outputs": [
    {
     "name": "stdout",
     "output_type": "stream",
     "text": [
      "False\n"
     ]
    }
   ],
   "source": [
    "def containsDuplicate(nums) -> bool:\n",
    "    seen = {}\n",
    "    for num in nums:\n",
    "        if num in seen and seen[num]>=1:\n",
    "            return True\n",
    "        else:\n",
    "            seen[num] = seen.get(num, 0) + 1\n",
    "    return False \n",
    "      \n",
    "print(containsDuplicate([1,2,3]))\n"
   ]
  },
  {
   "cell_type": "code",
   "execution_count": 11,
   "metadata": {},
   "outputs": [
    {
     "name": "stdout",
     "output_type": "stream",
     "text": [
      "2\n"
     ]
    }
   ],
   "source": [
    "nums = [9,4,1,7] \n",
    "k = 2\n",
    "# sort 1,4,7,9\n",
    "# sort the array first\n",
    "nums.sort()\n",
    "# use the sliding window to find the min\n",
    "l , r = 0,k-1\n",
    "minValue =  float('inf')\n",
    "while r< len(nums):\n",
    "    minValue = min(minValue,nums[r]-nums[l])\n",
    "    l, r = l+1 , r+1\n",
    "print(minValue) "
   ]
  },
  {
   "cell_type": "code",
   "execution_count": 2,
   "metadata": {},
   "outputs": [
    {
     "name": "stdout",
     "output_type": "stream",
     "text": [
      "1994\n"
     ]
    }
   ],
   "source": [
    "s = \"MCMXCIV\"\n",
    "roman = { \"I\":1,\"V\":5,\"X\":10,\"L\":50,\"C\":100,\"D\":500,\"M\":1000}\n",
    "ans = 0\n",
    "for i in range(len(s)):\n",
    "    # if the next cha value is greater then the current cha, it means the current is negtive\n",
    "    # for example IX  = -1 + 5 becasue X is greater then I\n",
    "    if i+1< len(s) and roman[s[i+1]]>roman[s[i]]:\n",
    "        ans-= roman[s[i]]\n",
    "    else:\n",
    "        ans+= roman[s[i]]\n",
    "print(ans)        \n"
   ]
  },
  {
   "cell_type": "code",
   "execution_count": 5,
   "metadata": {},
   "outputs": [
    {
     "name": "stdout",
     "output_type": "stream",
     "text": [
      "[2, 2]\n"
     ]
    }
   ],
   "source": [
    "from typing import List\n",
    "def intersection(nums1: List[int], nums2: List[int]) -> List[int]:\n",
    "    ans = []\n",
    "    app_dic = {}\n",
    "    for n in nums1:\n",
    "        if n in app_dic:\n",
    "            app_dic[n]+=1\n",
    "        else:\n",
    "            app_dic[n] = app_dic.get(n,0) + 1  \n",
    "\n",
    "    for n in nums2:\n",
    "        if n in app_dic:\n",
    "            if app_dic[n] > 0:\n",
    "                ans.append(n) \n",
    "                app_dic[n]-=1\n",
    "    return ans  \n",
    "\n",
    "nums1 = [1,2,2,1]\n",
    "nums2 = [2,2]\n",
    "print(intersection(nums1,nums2))         "
   ]
  },
  {
   "cell_type": "code",
   "execution_count": 2,
   "metadata": {},
   "outputs": [
    {
     "name": "stdout",
     "output_type": "stream",
     "text": [
      "[1, 2, 3, 4, 5]\n"
     ]
    }
   ],
   "source": [
    "from typing import List\n",
    "class ListNode:\n",
    "    def __init__(self,val=0,next=None):\n",
    "        self.val = val\n",
    "        self.next = next\n",
    "\n",
    "def createLinkedList(nums: List[int]) -> ListNode:\n",
    "    dummy = ListNode()\n",
    "    current = dummy\n",
    "    for num in nums:\n",
    "        current.next = ListNode(num)\n",
    "        current = current.next\n",
    "    return dummy.next\n",
    "def printLinkedList(listnode:[ListNode])->List[int]:\n",
    "    ansList = []\n",
    "    while listnode:\n",
    "        ansList.append(listnode.val)\n",
    "        listnode = listnode.next\n",
    "    return ansList \n",
    "\n",
    "listnode = createLinkedList([1,2,3,4,5])\n",
    "print(printLinkedList(listnode))"
   ]
  }
 ],
 "metadata": {
  "kernelspec": {
   "display_name": "Python 3",
   "language": "python",
   "name": "python3"
  },
  "language_info": {
   "codemirror_mode": {
    "name": "ipython",
    "version": 3
   },
   "file_extension": ".py",
   "mimetype": "text/x-python",
   "name": "python",
   "nbconvert_exporter": "python",
   "pygments_lexer": "ipython3",
   "version": "3.12.2"
  }
 },
 "nbformat": 4,
 "nbformat_minor": 2
}
